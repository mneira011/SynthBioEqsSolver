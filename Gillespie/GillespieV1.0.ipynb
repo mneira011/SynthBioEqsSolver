{
 "cells": [
  {
   "cell_type": "code",
   "execution_count": 1,
   "metadata": {
    "collapsed": true
   },
   "outputs": [],
   "source": [
    "import numpy as np\n",
    "import matplotlib.pyplot as plt \n"
   ]
  },
  {
   "cell_type": "code",
   "execution_count": 3,
   "metadata": {
    "collapsed": false
   },
   "outputs": [],
   "source": [
    "import numpy as np\n",
    "#constantes\n",
    "a = 0\n",
    "\n",
    "b=3\n",
    "\n",
    "c=5\n",
    "\n",
    "const = {'b': 3.0, 'c': 5.0, 'a': 0.0}\n",
    "#valores iniciales\n",
    "initVals = [3.0, 2.0]\n",
    "#parametros en el diccionario\n",
    "params = {'x': 'xs[0]', 'y': 'xs[1]'}\n",
    "#parametros en el diccionario reversados\n",
    "revparams = {'xs[1]': 'y', 'xs[0]': 'x'}\n",
    "#ecuaciones diferenciales\n",
    "def x(xs,const,t):\n",
    "\treturn -3*xs[0]*4*xs[1]  -2  +a \n",
    "def y(xs,const,t):\n",
    "\treturn -3*xs[1]*4*xs[0]  -2 \n",
    "funcArray = [x, y]\n",
    "def darEventos(xs):\n",
    "\treturn [-3*xs[0]*4*xs[1] ,-2 ,+a,-3*xs[1]*4*xs[0] ,-2]\n"
   ]
  },
  {
   "cell_type": "code",
   "execution_count": 4,
   "metadata": {
    "collapsed": true
   },
   "outputs": [],
   "source": [
    "acciones = [[-1,0],[0,0],[0,0],[-1,1],[0,1]]"
   ]
  },
  {
   "cell_type": "code",
   "execution_count": null,
   "metadata": {
    "collapsed": false
   },
   "outputs": [],
   "source": []
  },
  {
   "cell_type": "code",
   "execution_count": null,
   "metadata": {
    "collapsed": true
   },
   "outputs": [],
   "source": []
  }
 ],
 "metadata": {
  "anaconda-cloud": {},
  "kernelspec": {
   "display_name": "Python [Root]",
   "language": "python",
   "name": "Python [Root]"
  },
  "language_info": {
   "codemirror_mode": {
    "name": "ipython",
    "version": 3
   },
   "file_extension": ".py",
   "mimetype": "text/x-python",
   "name": "python",
   "nbconvert_exporter": "python",
   "pygments_lexer": "ipython3",
   "version": "3.5.2"
  }
 },
 "nbformat": 4,
 "nbformat_minor": 0
}
