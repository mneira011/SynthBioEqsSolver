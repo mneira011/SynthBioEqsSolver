{
 "cells": [
  {
   "cell_type": "code",
   "execution_count": 348,
   "metadata": {
    "collapsed": true
   },
   "outputs": [],
   "source": [
    "import numpy as np\n",
    "metodos =[]\n",
    "params = {}\n",
    "const = {}\n",
    "revparams =  {}"
   ]
  },
  {
   "cell_type": "code",
   "execution_count": 349,
   "metadata": {
    "collapsed": true
   },
   "outputs": [],
   "source": [
    "file = open(\"ejemplo.dat\")"
   ]
  },
  {
   "cell_type": "code",
   "execution_count": 350,
   "metadata": {
    "collapsed": true
   },
   "outputs": [],
   "source": [
    "outf = open('ecuaciones.py', 'w')"
   ]
  },
  {
   "cell_type": "code",
   "execution_count": 351,
   "metadata": {
    "collapsed": false
   },
   "outputs": [],
   "source": [
    "print(\"import numpy as np\",file= outf)"
   ]
  },
  {
   "cell_type": "code",
   "execution_count": 352,
   "metadata": {
    "collapsed": false
   },
   "outputs": [],
   "source": [
    "linea = file.readline()\n",
    "print(\"#constantes\",file = outf)\n",
    "# print(linea)\n",
    "while(not linea.startswith(\"------\")):\n",
    "#     print(linea,file=outf)\n",
    "    \n",
    "    linea = file.readline()\n",
    "    if(not linea.startswith(\"#\") and not linea.startswith(\"------\")):\n",
    "        key = linea.split(\"=\")[0].strip()\n",
    "        val = float(linea.split(\"=\")[1].strip())\n",
    "        const[key] = val\n",
    "print(\"const = \"+str(const),file = outf)\n",
    "\n",
    "    "
   ]
  },
  {
   "cell_type": "code",
   "execution_count": null,
   "metadata": {
    "collapsed": false
   },
   "outputs": [],
   "source": []
  },
  {
   "cell_type": "code",
   "execution_count": 353,
   "metadata": {
    "collapsed": false
   },
   "outputs": [],
   "source": [
    "linea = file.readline()\n",
    "initVals = []\n",
    "print(\"#valores iniciales\",file = outf)\n",
    "while(not linea.startswith(\"------\")):\n",
    "#     print(linea,file=outf)\n",
    "    if(not linea.startswith(\"#\")):\n",
    "#         print(linea)\n",
    "#         print(float(linea.split(\"=\")[1].strip()))\n",
    "\n",
    "        preParam = linea.split(\"=\")[0].strip()\n",
    "        sizepar = len(params)\n",
    "        params[preParam] = \"xs\"+str(sizepar)\n",
    "        revparams[\"xs\"+str(sizepar)] = preParam\n",
    "\n",
    "\n",
    "        initVals.append(float(linea.split(\"=\")[1].strip()))\n",
    "    linea = file.readline()\n",
    "# print(\"initVals = \" + str(initVals),file = outf)"
   ]
  },
  {
   "cell_type": "code",
   "execution_count": 354,
   "metadata": {
    "collapsed": false
   },
   "outputs": [
    {
     "name": "stdout",
     "output_type": "stream",
     "text": [
      "{'x': 'xs0', 'y': 'xs1'}\n",
      "[]\n",
      "{'xs0': 'x', 'xs1': 'y'}\n"
     ]
    }
   ],
   "source": [
    "print(params)\n",
    "print(metodos)\n",
    "print(revparams)"
   ]
  },
  {
   "cell_type": "code",
   "execution_count": 355,
   "metadata": {
    "collapsed": false
   },
   "outputs": [],
   "source": [
    "linea = file.readline()\n",
    "# print(\"#funciones\",file = outf)\n",
    "while(not linea.startswith(\"------\")):\n",
    "    procesarFuncion(linea)\n",
    "    linea = file.readline()\n",
    "# params =list(set(params))\n"
   ]
  },
  {
   "cell_type": "code",
   "execution_count": 356,
   "metadata": {
    "collapsed": false
   },
   "outputs": [
    {
     "name": "stdout",
     "output_type": "stream",
     "text": [
      "{'x': 'xs0', 'y': 'xs1'}\n",
      "[['x ', '3*x*4*y  -2  +a '], ['y ', '3*y*4*x  -2 ']]\n",
      "{'xs0': 'x', 'xs1': 'y'}\n"
     ]
    }
   ],
   "source": [
    "\n",
    "# xs = []\n",
    "# for i in params:\n",
    "#     if(i !=\"t\"):\n",
    "#         xs.append(i)\n",
    "print(params)\n",
    "print(metodos)\n",
    "print(revparams)"
   ]
  },
  {
   "cell_type": "code",
   "execution_count": 212,
   "metadata": {
    "collapsed": false
   },
   "outputs": [],
   "source": [
    "#quita duplicados\n",
    "\n",
    "print(\"#ecuaciones diferenciales\",file=outf)"
   ]
  },
  {
   "cell_type": "code",
   "execution_count": 217,
   "metadata": {
    "collapsed": false
   },
   "outputs": [
    {
     "name": "stdout",
     "output_type": "stream",
     "text": [
      "def x(x,t,y):\n",
      "\treturn 3*x*4*t  -2  +a \n",
      "def y(x,t,y):\n",
      "\treturn 3*y*4*t  -2 \n"
     ]
    }
   ],
   "source": [
    "for i in range(len(metodos)):\n",
    "    aimprimir = \"def \" + metodos[i][0].strip()+\"(\"\n",
    "    for j in range(len(params)-1):\n",
    "        aimprimir = aimprimir +params[j]+\",\"\n",
    "    aimprimir = aimprimir +params[len(params)-1]\n",
    "    aimprimir = aimprimir +\"):\"\n",
    "    print(aimprimir)\n",
    "#     print(aimprimir,file=outf)\n",
    "    aimprimir = \"\\t\"+\"return \"+metodos[i][1]\n",
    "    print(aimprimir)\n",
    "#     print(aimprimir,file=outf)\n",
    "    "
   ]
  },
  {
   "cell_type": "code",
   "execution_count": 219,
   "metadata": {
    "collapsed": false
   },
   "outputs": [
    {
     "name": "stdout",
     "output_type": "stream",
     "text": [
      "def x(xs,const,t):\n",
      "\treturn 3*x*4*t  -2  +a \n",
      "def y(xs,const,t):\n",
      "\treturn 3*y*4*t  -2 \n"
     ]
    }
   ],
   "source": [
    "for i in range(len(metodos)):\n",
    "    aimprimir = \"def \" + metodos[i][0].strip()+\"(xs,const,t):\"\n",
    "    print(aimprimir)\n",
    "#     print(aimprimir,file=outf)\n",
    "    aimprimir = \"\\t\"+\"return \"+metodos[i][1]\n",
    "    print(aimprimir)\n",
    "#     print(aimprimir,file=outf)\n",
    "    "
   ]
  },
  {
   "cell_type": "code",
   "execution_count": 202,
   "metadata": {
    "collapsed": true
   },
   "outputs": [],
   "source": [
    "outf.close()\n",
    "file.close()"
   ]
  },
  {
   "cell_type": "code",
   "execution_count": null,
   "metadata": {
    "collapsed": true
   },
   "outputs": [],
   "source": []
  },
  {
   "cell_type": "code",
   "execution_count": 187,
   "metadata": {
    "collapsed": true
   },
   "outputs": [],
   "source": [
    "def procesarFuncion(linea):\n",
    "    \n",
    "    global metodos\n",
    "    ans = []\n",
    "    izq = linea.split(\"=\")[0]\n",
    "    der = linea.split(\"=\")[1].strip()\n",
    "    der = der.split(\"@\")[1:]\n",
    "    ans.append(izq) \n",
    "    \n",
    "    temp = \"\"\n",
    "    for termino in der:\n",
    "         termino procesarTermino(termino)\n",
    "        \n",
    "#         termino = termino.replace(\"{\",\"\")\n",
    "#         termino = termino.replace(\"}\",\"\")\n",
    "        temp = temp +termino + \" \"\n",
    "    ans.append(temp)\n",
    "        \n",
    "    metodos.append(ans)\n",
    "    "
   ]
  },
  {
   "cell_type": "code",
   "execution_count": null,
   "metadata": {
    "collapsed": false
   },
   "outputs": [],
   "source": []
  },
  {
   "cell_type": "code",
   "execution_count": null,
   "metadata": {
    "collapsed": false
   },
   "outputs": [],
   "source": []
  },
  {
   "cell_type": "code",
   "execution_count": 347,
   "metadata": {
    "collapsed": false
   },
   "outputs": [],
   "source": [
    "def procesarTermino(termino):\n",
    "    global params\n",
    "    comienzos = buscarEnString(termino,\"{\")\n",
    "    terminos = buscarEnString(termino,\"}\")\n",
    "    ans = \"\"\n",
    "    terminoArr = termino.split(\"{\")\n",
    "    for i in terminoArr:\n",
    "        subterminoArr = i.split(\"}\")\n",
    "        for j in subterminoArr:\n",
    "            if(params.get(j)!=None):\n",
    "                ans = ans + params[j]\n",
    "            \n",
    "            else:\n",
    "                ans = ans + j\n",
    "    return ans\n",
    "                "
   ]
  },
  {
   "cell_type": "code",
   "execution_count": null,
   "metadata": {
    "collapsed": false
   },
   "outputs": [],
   "source": []
  },
  {
   "cell_type": "code",
   "execution_count": null,
   "metadata": {
    "collapsed": false
   },
   "outputs": [],
   "source": []
  },
  {
   "cell_type": "code",
   "execution_count": null,
   "metadata": {
    "collapsed": false
   },
   "outputs": [],
   "source": []
  },
  {
   "cell_type": "code",
   "execution_count": 13,
   "metadata": {
    "collapsed": true
   },
   "outputs": [],
   "source": [
    "def buscarEnString(string, busc):\n",
    "    ans = []\n",
    "    for i in range(len(string)):\n",
    "        if string[i]== busc:\n",
    "            ans.append(i)\n",
    "            \n",
    "    return ans"
   ]
  },
  {
   "cell_type": "code",
   "execution_count": 220,
   "metadata": {
    "collapsed": false
   },
   "outputs": [],
   "source": [
    "dic = {\"a\":2}"
   ]
  },
  {
   "cell_type": "code",
   "execution_count": 237,
   "metadata": {
    "collapsed": false
   },
   "outputs": [
    {
     "name": "stdout",
     "output_type": "stream",
     "text": [
      "1\n"
     ]
    }
   ],
   "source": [
    "\n",
    "print(len(dic))"
   ]
  },
  {
   "cell_type": "code",
   "execution_count": 314,
   "metadata": {
    "collapsed": false
   },
   "outputs": [
    {
     "name": "stdout",
     "output_type": "stream",
     "text": [
      "hola\n"
     ]
    }
   ],
   "source": [
    "preParam = \"hola0\"\n",
    "# preParam = np.array(preParam)\n",
    "print(preParam[:-1])"
   ]
  },
  {
   "cell_type": "code",
   "execution_count": null,
   "metadata": {
    "collapsed": true
   },
   "outputs": [],
   "source": []
  }
 ],
 "metadata": {
  "anaconda-cloud": {},
  "kernelspec": {
   "display_name": "Python [Root]",
   "language": "python",
   "name": "Python [Root]"
  },
  "language_info": {
   "codemirror_mode": {
    "name": "ipython",
    "version": 3
   },
   "file_extension": ".py",
   "mimetype": "text/x-python",
   "name": "python",
   "nbconvert_exporter": "python",
   "pygments_lexer": "ipython3",
   "version": "3.5.2"
  }
 },
 "nbformat": 4,
 "nbformat_minor": 0
}
