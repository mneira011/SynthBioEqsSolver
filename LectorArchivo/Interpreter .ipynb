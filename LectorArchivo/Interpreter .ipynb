{
 "cells": [
  {
   "cell_type": "code",
   "execution_count": 632,
   "metadata": {
    "collapsed": true
   },
   "outputs": [],
   "source": [
    "import numpy as np\n",
    "\n",
    "#declaramos todo lo que necesitaremos despues\n",
    "metodos =[]\n",
    "eventos = []\n",
    "params = {}\n",
    "const = {}\n",
    "revparams =  {}\n",
    "acciones= []\n",
    "\n",
    "#esto procesa cada una de las ecuaciones\n",
    "#que entran en el archivo \n",
    "def procesarFuncion(linea):\n",
    "    \n",
    "    global metodos\n",
    "    #vainas malucas para poder leer sin problemas\n",
    "    #cada linea\n",
    "    ans = []\n",
    "    izq = linea.split(\"=\")[0]\n",
    "    der = linea.split(\"=\")[1].strip()\n",
    "    der = der.split(\"@\")[1:]\n",
    "    ans.append(izq) \n",
    "    \n",
    "    temp = \"\"\n",
    "    #aca procesamos cada uno de los parametros de la funcion\n",
    "    for termino in der:\n",
    "        termino = procesarTermino(termino)\n",
    "        \n",
    "        \n",
    "        temp = temp +termino + \" \"\n",
    "    ans.append(temp)\n",
    "    #y lo metemos en un arreglo para despues imprimirlo \n",
    "    metodos.append(ans)\n",
    "    \n",
    "#esto es lo que procesa cada termino de la funcion\n",
    "def procesarTermino(termino):\n",
    "    global params\n",
    "    #me interesa cambiar lo que esta adentro \n",
    "    #de los parentesis por un xs[i] definido \n",
    "    #previamente por los parametros\n",
    "    ans = \"\"\n",
    "    terminoArr = termino.split(\"{\")\n",
    "    for i in terminoArr:\n",
    "        subterminoArr = i.split(\"}\")\n",
    "        for j in subterminoArr:\n",
    "            if(params.get(j)!=None):\n",
    "                ans = ans + params[j]\n",
    "            \n",
    "            else:\n",
    "                ans = ans + j\n",
    "    eventos.append(ans.strip())\n",
    "    return ans\n",
    "                \n"
   ]
  },
  {
   "cell_type": "code",
   "execution_count": null,
   "metadata": {
    "collapsed": true
   },
   "outputs": [],
   "source": []
  },
  {
   "cell_type": "code",
   "execution_count": 633,
   "metadata": {
    "collapsed": true
   },
   "outputs": [],
   "source": [
    "#archivo que vamos a leer\n",
    "file = open(\"ejemplo.dat\")"
   ]
  },
  {
   "cell_type": "code",
   "execution_count": 634,
   "metadata": {
    "collapsed": true
   },
   "outputs": [],
   "source": [
    "#archivo al que escribiremos\n",
    "outf = open('ecuaciones.py', 'w')"
   ]
  },
  {
   "cell_type": "code",
   "execution_count": 635,
   "metadata": {
    "collapsed": false
   },
   "outputs": [],
   "source": [
    "#solo creo que necesitaremos numpy, igual ese archivo solo se va a importar en otro\n",
    "print(\"import numpy as np\",file= outf)"
   ]
  },
  {
   "cell_type": "code",
   "execution_count": 636,
   "metadata": {
    "collapsed": false
   },
   "outputs": [],
   "source": [
    "#primero van las constantes\n",
    "#vamos a meterlas en un diccionario, facilita mucho la vida\n",
    "linea = file.readline()\n",
    "print(\"#constantes\",file = outf)\n",
    "\n",
    "while(not linea.startswith(\"------\")):\n",
    "\n",
    "    \n",
    "    linea = file.readline()\n",
    "    if(not linea.startswith(\"#\") and not linea.startswith(\"------\")):\n",
    "        key = linea.split(\"=\")[0].strip()\n",
    "        val = float(linea.split(\"=\")[1].strip())\n",
    "        const[key] = val\n",
    "        print(linea,file = outf)\n",
    "print(\"const = \"+str(const),file = outf)\n",
    "\n",
    "    "
   ]
  },
  {
   "cell_type": "code",
   "execution_count": null,
   "metadata": {
    "collapsed": false
   },
   "outputs": [],
   "source": []
  },
  {
   "cell_type": "code",
   "execution_count": 637,
   "metadata": {
    "collapsed": false
   },
   "outputs": [],
   "source": [
    "#siguen los valores iniciales\n",
    "linea = file.readline()\n",
    "initVals = []\n",
    "print(\"#valores iniciales\",file = outf)\n",
    "while(not linea.startswith(\"------\")):\n",
    "    #solo queremos las lineas que no sean un comentario \n",
    "    if(not linea.startswith(\"#\")):\n",
    "\n",
    "        #metemos los parametros en un diccionario y \n",
    "        #en un diccionario reversado, esto nos sera util despues\n",
    "        preParam = linea.split(\"=\")[0].strip()\n",
    "        sizepar = len(params)\n",
    "        params[preParam] = \"xs\"+\"[\"+str(sizepar)+\"]\"\n",
    "        revparams[\"xs\"+\"[\"+str(sizepar)+\"]\"] = preParam\n",
    "\n",
    "\n",
    "        initVals.append(float(linea.split(\"=\")[1].strip()))\n",
    "    linea = file.readline()\n",
    "print(\"initVals = \" + str(initVals),file = outf)"
   ]
  },
  {
   "cell_type": "code",
   "execution_count": 638,
   "metadata": {
    "collapsed": false
   },
   "outputs": [],
   "source": [
    "\n",
    "#metemos los parametros al archivo\n",
    "print(\"#parametros en el diccionario\",file = outf)\n",
    "\n",
    "print(\"params = \" + str(params),file = outf)\n",
    "#y los parametros reversados tambien\n",
    "print(\"#parametros en el diccionario reversados\",file = outf)\n",
    "print(\"revparams = \" + str(revparams),file = outf)"
   ]
  },
  {
   "cell_type": "code",
   "execution_count": 639,
   "metadata": {
    "collapsed": false
   },
   "outputs": [],
   "source": [
    "linea = file.readline()\n",
    "#procesamos cada una de las funciones\n",
    "while(not linea.startswith(\"------\")):\n",
    "    procesarFuncion(linea)\n",
    "    linea = file.readline()\n",
    "\n"
   ]
  },
  {
   "cell_type": "code",
   "execution_count": 640,
   "metadata": {
    "collapsed": false
   },
   "outputs": [],
   "source": [
    "#ahora van las ecuaciones diferenciales\n",
    "print(\"#ecuaciones diferenciales\",file=outf)"
   ]
  },
  {
   "cell_type": "code",
   "execution_count": 641,
   "metadata": {
    "collapsed": false
   },
   "outputs": [],
   "source": [
    "for i in range(len(metodos)):\n",
    "    #imprimos el encabezado de la funcion\n",
    "    aimprimir = \"def \" + metodos[i][0].strip()+\"(xs,const,t):\"\n",
    "    print(aimprimir,file=outf)\n",
    "    \n",
    "    #luego el cuerpo \n",
    "    aimprimir = \"\\t\"+\"return \"+metodos[i][1]\n",
    "    print(aimprimir,file=outf)\n",
    "    "
   ]
  },
  {
   "cell_type": "code",
   "execution_count": 642,
   "metadata": {
    "collapsed": false
   },
   "outputs": [],
   "source": [
    "#por ultimo, metemos todas las funciones a un arreglo\n",
    "\n",
    "funcArray =[] \n",
    "\n",
    "for i in params:\n",
    "    funcArray.append(i[0])\n",
    "newFuncArray = \"\"\n",
    "funcArray = str(funcArray)\n",
    "for i in funcArray:\n",
    "    if(i!=\"\\'\"):\n",
    "        newFuncArray += i\n",
    "#y lo imprimimos        \n",
    "print(\"#arreglo de funciones\",file = outf)\n",
    "print(\"funcArray = \" + str(newFuncArray),file = outf)\n"
   ]
  },
  {
   "cell_type": "code",
   "execution_count": null,
   "metadata": {
    "collapsed": false
   },
   "outputs": [],
   "source": []
  },
  {
   "cell_type": "code",
   "execution_count": 643,
   "metadata": {
    "collapsed": false
   },
   "outputs": [],
   "source": [
    "linea = file.readline()\n",
    "cont = 0\n",
    "#leemos las acciones asociadas a cada evento \n",
    "while(not linea.startswith(\"------\")):\n",
    "    if(not linea.startswith(\"#\")):\n",
    "\n",
    "        subacciones = linea.split(\",\")\n",
    "        for i in range(len(subacciones)):\n",
    "            aAgregar = \"\"\n",
    "            if(i!=len(subacciones)-1):\n",
    "                aAgregar = [float(subacciones[i]),cont]\n",
    "            else:\n",
    "                aAgregar = [float(subacciones[i][:-1]),cont]\n",
    "            acciones.append(aAgregar)\n",
    "        cont+=1\n",
    "    linea = file.readline()\n",
    "    "
   ]
  },
  {
   "cell_type": "code",
   "execution_count": 644,
   "metadata": {
    "collapsed": true
   },
   "outputs": [],
   "source": [
    "eventos = np.array(eventos)\n",
    "acciones = np.array(acciones)\n",
    "#tenemos que considerar los casos donde hay eventos que \n",
    "#se comparten entre ecuaciones\n",
    "#estas dos listas van a cumplir ese proposito \n",
    "curatedEvents =[]\n",
    "curatedActions = []\n",
    "#quitamos los signos de cada evento\n",
    "for i in range(len(eventos)):\n",
    "    eventos[i] = eventos[i][1:]\n",
    "\n"
   ]
  },
  {
   "cell_type": "code",
   "execution_count": 645,
   "metadata": {
    "collapsed": false
   },
   "outputs": [],
   "source": [
    "#esto depura los eventos\n",
    "for i in range(len(eventos)):\n",
    "    aMirar = eventos[i]\n",
    "    #en el caso q se repita el evento\n",
    "    if(aMirar in curatedEvents):\n",
    "        curatedEvents = np.array(curatedEvents)\n",
    "        indices = np.where(eventos==aMirar)[0]\n",
    "        dondeVa = np.where(curatedEvents==aMirar)[0]\n",
    "        for j in indices:\n",
    "            curatedActions[int(dondeVa)][int(acciones[int(j)][1])] =acciones[int(j)][0] \n",
    "        curatedEvents= curatedEvents.tolist()\n",
    "    #en el caso que no este dentro de la lista depurada    \n",
    "    else:\n",
    "        \n",
    "        curatedEvents.append(aMirar)\n",
    "        subactions = np.zeros(len(params))\n",
    "        subactions[int(acciones[i][1])] = acciones[i][0]\n",
    "        curatedActions.append(subactions.tolist())\n",
    "        "
   ]
  },
  {
   "cell_type": "code",
   "execution_count": 646,
   "metadata": {
    "collapsed": false
   },
   "outputs": [],
   "source": [
    "#imprimimos las acciones\n",
    "print(\"#acciones\",file = outf)\n",
    "print(\"actions = \" + str(curatedActions),file = outf)"
   ]
  },
  {
   "cell_type": "code",
   "execution_count": 647,
   "metadata": {
    "collapsed": false
   },
   "outputs": [],
   "source": [
    "#ademas, sacamos los eventos \n",
    "newEventos  = \"[\"\n",
    "for i in curatedEvents:\n",
    "    ans = \"\"\n",
    "    for j in i:\n",
    "        if(i!=\"\\'\"):\n",
    "            ans += j\n",
    "    newEventos += (ans)+\",\"\n",
    "newEventos = newEventos[:-1]\n",
    "newEventos += \"]\"\n",
    "print(\"#eventos\",file = outf)\n",
    "print(\"def darEventos(xs):\",file = outf)\n",
    "print(\"\\treturn \" + str(newEventos),file = outf)\n",
    "\n"
   ]
  },
  {
   "cell_type": "code",
   "execution_count": 648,
   "metadata": {
    "collapsed": true
   },
   "outputs": [],
   "source": [
    "#Y salio para pintura\n",
    "outf.close()\n",
    "file.close()\n"
   ]
  }
 ],
 "metadata": {
  "anaconda-cloud": {},
  "kernelspec": {
   "display_name": "Python [Root]",
   "language": "python",
   "name": "Python [Root]"
  },
  "language_info": {
   "codemirror_mode": {
    "name": "ipython",
    "version": 3
   },
   "file_extension": ".py",
   "mimetype": "text/x-python",
   "name": "python",
   "nbconvert_exporter": "python",
   "pygments_lexer": "ipython3",
   "version": "3.5.2"
  }
 },
 "nbformat": 4,
 "nbformat_minor": 0
}
