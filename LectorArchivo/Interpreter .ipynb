{
 "cells": [
  {
   "cell_type": "code",
   "execution_count": 344,
   "metadata": {
    "collapsed": true
   },
   "outputs": [],
   "source": [
    "import numpy as np\n",
    "metodos =[]\n",
    "params = []"
   ]
  },
  {
   "cell_type": "code",
   "execution_count": 345,
   "metadata": {
    "collapsed": true
   },
   "outputs": [],
   "source": [
    "file = open(\"ejemplo.dat\")"
   ]
  },
  {
   "cell_type": "code",
   "execution_count": 346,
   "metadata": {
    "collapsed": true
   },
   "outputs": [],
   "source": [
    "outf = open('ecuaciones.py', 'w')"
   ]
  },
  {
   "cell_type": "code",
   "execution_count": 347,
   "metadata": {
    "collapsed": false
   },
   "outputs": [],
   "source": [
    "print(\"import numpy as np\",file= outf)"
   ]
  },
  {
   "cell_type": "code",
   "execution_count": 348,
   "metadata": {
    "collapsed": false
   },
   "outputs": [],
   "source": [
    "linea = file.readline()\n",
    "# print(linea)\n",
    "while(not linea.startswith(\"------\")):\n",
    "    print(linea,file=outf)\n",
    "    linea = file.readline()"
   ]
  },
  {
   "cell_type": "code",
   "execution_count": 349,
   "metadata": {
    "collapsed": false
   },
   "outputs": [],
   "source": [
    "linea = file.readline()\n",
    "while(not linea.startswith(\"------\")):\n",
    "    print(linea,file=outf)\n",
    "    linea = file.readline()"
   ]
  },
  {
   "cell_type": "code",
   "execution_count": 350,
   "metadata": {
    "collapsed": false
   },
   "outputs": [],
   "source": [
    "linea = file.readline()\n",
    "while(not linea.startswith(\"------\")):\n",
    "    procesarFuncion(linea)\n",
    "    linea = file.readline()\n"
   ]
  },
  {
   "cell_type": "code",
   "execution_count": 351,
   "metadata": {
    "collapsed": false
   },
   "outputs": [],
   "source": [
    "#quita duplicados\n",
    "params =list(set(params))\n",
    "\n",
    "print(\"#ecuaciones diferenciales\",file=outf)"
   ]
  },
  {
   "cell_type": "code",
   "execution_count": 352,
   "metadata": {
    "collapsed": false
   },
   "outputs": [],
   "source": [
    "for i in range(len(metodos)):\n",
    "    aimprimir = \"def \" + metodos[i][0].strip()+\"(\"\n",
    "    for j in range(len(params)-1):\n",
    "        aimprimir = aimprimir +params[j]+\",\"\n",
    "    aimprimir = aimprimir +params[len(params)-1]\n",
    "    aimprimir = aimprimir +\"):\"\n",
    "    print(aimprimir,file=outf)\n",
    "    aimprimir = \"\\t\"+\"return \"+metodos[i][1]\n",
    "    print(aimprimir,file=outf)\n",
    "    "
   ]
  },
  {
   "cell_type": "code",
   "execution_count": 353,
   "metadata": {
    "collapsed": true
   },
   "outputs": [],
   "source": [
    "outf.close()"
   ]
  },
  {
   "cell_type": "code",
   "execution_count": null,
   "metadata": {
    "collapsed": true
   },
   "outputs": [],
   "source": []
  },
  {
   "cell_type": "code",
   "execution_count": 241,
   "metadata": {
    "collapsed": true
   },
   "outputs": [],
   "source": [
    "def procesarFuncion(linea):\n",
    "    \n",
    "    global metodos\n",
    "    ans = []\n",
    "    izq = linea.split(\"=\")[0]\n",
    "    der = linea.split(\"=\")[1].strip()\n",
    "    der = der.split(\"#\")[1:]\n",
    "    ans.append(izq) \n",
    "    \n",
    "    temp = \"\"\n",
    "    for termino in der:\n",
    "        procesarTermino(termino)\n",
    "        \n",
    "        termino = termino.replace(\"{\",\"\")\n",
    "        termino = termino.replace(\"}\",\"\")\n",
    "        temp = temp +termino + \" \"\n",
    "    ans.append(temp)\n",
    "        \n",
    "    metodos.append(ans)\n",
    "    "
   ]
  },
  {
   "cell_type": "code",
   "execution_count": null,
   "metadata": {
    "collapsed": false
   },
   "outputs": [],
   "source": []
  },
  {
   "cell_type": "code",
   "execution_count": null,
   "metadata": {
    "collapsed": false
   },
   "outputs": [],
   "source": []
  },
  {
   "cell_type": "code",
   "execution_count": 98,
   "metadata": {
    "collapsed": false
   },
   "outputs": [],
   "source": [
    "def procesarTermino(termino):\n",
    "    global params\n",
    "    comienzos = buscarEnString(termino,\"{\")\n",
    "    terminos = buscarEnString(termino,\"}\")\n",
    "    \n",
    "    for i in range(len(comienzos)):\n",
    "        param = \"\"\n",
    "        length = terminos[i]-comienzos[i]\n",
    "        for j in range(length-1):\n",
    "            param =param+ termino[comienzos[i]+1+j]\n",
    "        params.append(param)\n",
    "    \n",
    "    "
   ]
  },
  {
   "cell_type": "code",
   "execution_count": null,
   "metadata": {
    "collapsed": false
   },
   "outputs": [],
   "source": []
  },
  {
   "cell_type": "code",
   "execution_count": null,
   "metadata": {
    "collapsed": false
   },
   "outputs": [],
   "source": []
  },
  {
   "cell_type": "code",
   "execution_count": null,
   "metadata": {
    "collapsed": false
   },
   "outputs": [],
   "source": []
  },
  {
   "cell_type": "code",
   "execution_count": 78,
   "metadata": {
    "collapsed": true
   },
   "outputs": [],
   "source": [
    "def buscarEnString(string, busc):\n",
    "    ans = []\n",
    "    for i in range(len(string)):\n",
    "        if string[i]== busc:\n",
    "            ans.append(i)\n",
    "            \n",
    "    return ans"
   ]
  },
  {
   "cell_type": "code",
   "execution_count": null,
   "metadata": {
    "collapsed": false
   },
   "outputs": [],
   "source": []
  },
  {
   "cell_type": "code",
   "execution_count": null,
   "metadata": {
    "collapsed": true
   },
   "outputs": [],
   "source": []
  }
 ],
 "metadata": {
  "anaconda-cloud": {},
  "kernelspec": {
   "display_name": "Python [Root]",
   "language": "python",
   "name": "Python [Root]"
  },
  "language_info": {
   "codemirror_mode": {
    "name": "ipython",
    "version": 3
   },
   "file_extension": ".py",
   "mimetype": "text/x-python",
   "name": "python",
   "nbconvert_exporter": "python",
   "pygments_lexer": "ipython3",
   "version": "3.5.2"
  }
 },
 "nbformat": 4,
 "nbformat_minor": 0
}
