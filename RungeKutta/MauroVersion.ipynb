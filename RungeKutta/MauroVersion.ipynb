{
 "cells": [
  {
   "cell_type": "code",
   "execution_count": 1,
   "metadata": {
    "collapsed": true
   },
   "outputs": [],
   "source": [
    "import numpy as np\n",
    "import matplotlib.pyplot as plt"
   ]
  },
  {
   "cell_type": "code",
   "execution_count": 10,
   "metadata": {
    "collapsed": true
   },
   "outputs": [],
   "source": [
    "conts= {\"aL\":20.0,\"bL\":400.0,\"kL\":300.0,\"nL\":2.0, \"bPr\":580.0,\"kPr\" : 5800.0}\n"
   ]
  },
  {
   "cell_type": "code",
   "execution_count": 3,
   "metadata": {
    "collapsed": false
   },
   "outputs": [],
   "source": [
    "def EMauro(xs,const,t):\n",
    "    return xs[0] +xs[1]\n",
    "\n",
    "def MERpr(xs,const,t):\n",
    "    return -xs[0]\n",
    "\n",
    "def HgMer(xs,const,t):\n",
    "    return xs[0]/2.0\n",
    "    \n",
    "FuncArr = [EMauro,MERpr,HgMer]\n",
    "t = [0.0]\n"
   ]
  },
  {
   "cell_type": "code",
   "execution_count": 4,
   "metadata": {
    "collapsed": false
   },
   "outputs": [],
   "source": [
    "ValsArr=[]\n",
    "init = []\n",
    "for i in range(len(FuncArr)):\n",
    "    init.append(10.0)\n",
    "ValsArr.append(init)"
   ]
  },
  {
   "cell_type": "code",
   "execution_count": null,
   "metadata": {
    "collapsed": false
   },
   "outputs": [],
   "source": []
  },
  {
   "cell_type": "code",
   "execution_count": 6,
   "metadata": {
    "collapsed": false
   },
   "outputs": [],
   "source": [
    "def rungeKutta(FuncArr,ValsArr,t,h=0.2,tf=10.0):\n",
    "    steps = int(tf/h)+1\n",
    "    for step in range(1,steps):\n",
    "        h=0.2\n",
    "        k1=[]\n",
    "        for i in range(len(FuncArr)):\n",
    "            k1.append(FuncArr[i](ValsArr[step-1],conts,t[step-1]))\n",
    "        th2=(t[step-1]+h/2.0)\n",
    "        k1 = np.array(k1)\n",
    "        # print(h*k1/2.0)\n",
    "        # print(ValsArr[0])\n",
    "        k2=[]\n",
    "\n",
    "        for i in range(len(FuncArr)):\n",
    "            coso = ValsArr[step-1]+h*k1/2.0\n",
    "            k2.append(FuncArr[i](coso,conts,th2))\n",
    "        k2 = np.array(k2)\n",
    "        k3=[]\n",
    "        for i in range(len(FuncArr)):\n",
    "            coso = ValsArr[step-1]+h*k2/2.0\n",
    "            k3.append(FuncArr[i](coso,conts,th2))\n",
    "        k3 = np.array(k3)\n",
    "        k4=[]\n",
    "        th = (t[step-1]+h)\n",
    "        for i in range(len(FuncArr)):\n",
    "            coso = ValsArr[step-1]+h*k3\n",
    "            k4.append(FuncArr[i](coso,conts,th))\n",
    "        k4= np.array(k4)\n",
    "        t.append(t[step-1]+h)\n",
    "        temp = []\n",
    "        for i in range(len(FuncArr)):\n",
    "            temp.append(ValsArr[step-1][i]+(h/6.0)*(k1[i]+2.0*k2[i]+2.0*k3[i]+k4[i]))\n",
    "        ValsArr.append(temp)\n",
    "    "
   ]
  },
  {
   "cell_type": "code",
   "execution_count": 7,
   "metadata": {
    "collapsed": true
   },
   "outputs": [],
   "source": [
    "rungeKutta(FuncArr,ValsArr,t)"
   ]
  },
  {
   "cell_type": "code",
   "execution_count": 8,
   "metadata": {
    "collapsed": false
   },
   "outputs": [],
   "source": [
    "ValsArr = np.array(ValsArr)\n",
    "first = ValsArr[:,0]"
   ]
  },
  {
   "cell_type": "code",
   "execution_count": 9,
   "metadata": {
    "collapsed": false
   },
   "outputs": [],
   "source": [
    "plt.scatter(t,first)\n",
    "plt.show()"
   ]
  },
  {
   "cell_type": "code",
   "execution_count": null,
   "metadata": {
    "collapsed": true
   },
   "outputs": [],
   "source": []
  },
  {
   "cell_type": "code",
   "execution_count": null,
   "metadata": {
    "collapsed": true
   },
   "outputs": [],
   "source": []
  },
  {
   "cell_type": "code",
   "execution_count": null,
   "metadata": {
    "collapsed": true
   },
   "outputs": [],
   "source": []
  }
 ],
 "metadata": {
  "anaconda-cloud": {},
  "kernelspec": {
   "display_name": "Python [Root]",
   "language": "python",
   "name": "Python [Root]"
  },
  "language_info": {
   "codemirror_mode": {
    "name": "ipython",
    "version": 3
   },
   "file_extension": ".py",
   "mimetype": "text/x-python",
   "name": "python",
   "nbconvert_exporter": "python",
   "pygments_lexer": "ipython3",
   "version": "3.5.2"
  }
 },
 "nbformat": 4,
 "nbformat_minor": 0
}
