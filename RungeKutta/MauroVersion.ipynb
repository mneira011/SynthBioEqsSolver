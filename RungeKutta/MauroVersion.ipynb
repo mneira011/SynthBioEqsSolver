{
 "cells": [
  {
   "cell_type": "code",
   "execution_count": null,
   "metadata": {
    "collapsed": true
   },
   "outputs": [],
   "source": [
    "import numpy as np\n",
    "import matplotlib.pyplot as plt\n"
   ]
  },
  {
   "cell_type": "code",
   "execution_count": null,
   "metadata": {
    "collapsed": false
   },
   "outputs": [],
   "source": [
    "# %load ecuaciones.py\n",
    "import numpy as np\n",
    "#constantes\n",
    "a = 0\n",
    "\n",
    "b=3\n",
    "\n",
    "c=5\n",
    "\n",
    "const = {'c': 5.0, 'a': 0.0, 'b': 3.0}\n",
    "#valores iniciales\n",
    "initVals = [3.0, 2.0]\n",
    "#parametros en el diccionario\n",
    "params = {'x': 'xs[0]', 'y': 'xs[1]'}\n",
    "#parametros en el diccionario reversados\n",
    "revparams = {'xs[0]': 'x', 'xs[1]': 'y'}\n",
    "#ecuaciones diferenciales\n",
    "def x(xs,const,t):\n",
    "\treturn -3*xs[1]  -2  +a \n",
    "def y(xs,const,t):\n",
    "\treturn -3*xs[0]  -2 \n",
    "funcArray = [x, y]\n"
   ]
  },
  {
   "cell_type": "code",
   "execution_count": null,
   "metadata": {
    "collapsed": true
   },
   "outputs": [],
   "source": [
    "#array de tiempo\n",
    "t = [0.0]\n",
    "\n"
   ]
  },
  {
   "cell_type": "code",
   "execution_count": 10,
   "metadata": {
    "collapsed": false
   },
   "outputs": [],
   "source": [
    "#array con los valores de la futura solucion\n",
    "ValsArr=[]\n",
    "#metemos los valores iniciales\n",
    "ValsArr.append(initVals)"
   ]
  },
  {
   "cell_type": "code",
   "execution_count": null,
   "metadata": {
    "collapsed": false
   },
   "outputs": [],
   "source": []
  },
  {
   "cell_type": "code",
   "execution_count": null,
   "metadata": {
    "collapsed": false
   },
   "outputs": [],
   "source": [
    "#este es el algoritmo determinista \n",
    "#para entender como funciona:\n",
    "# https://en.wikipedia.org/wiki/Runge%E2%80%93Kutta_methods\n",
    "def rungeKutta(FuncArr,ValsArr,const,t,h=0.2,tf=10.0):\n",
    "    steps = int(tf/h)+1\n",
    "    for step in range(1,steps):\n",
    "        h=0.2\n",
    "        k1=[]\n",
    "        for i in range(len(FuncArr)):\n",
    "            k1.append(FuncArr[i](ValsArr[step-1],const,t[step-1]))\n",
    "        th2=(t[step-1]+h/2.0)\n",
    "        k1 = np.array(k1)\n",
    "\n",
    "        k2=[]\n",
    "\n",
    "        for i in range(len(FuncArr)):\n",
    "            coso = ValsArr[step-1]+h*k1/2.0\n",
    "            k2.append(FuncArr[i](coso,const,th2))\n",
    "        k2 = np.array(k2)\n",
    "        k3=[]\n",
    "        for i in range(len(FuncArr)):\n",
    "            coso = ValsArr[step-1]+h*k2/2.0\n",
    "            k3.append(FuncArr[i](coso,const,th2))\n",
    "        k3 = np.array(k3)\n",
    "        k4=[]\n",
    "        th = (t[step-1]+h)\n",
    "        for i in range(len(FuncArr)):\n",
    "            coso = ValsArr[step-1]+h*k3\n",
    "            k4.append(FuncArr[i](coso,const,th))\n",
    "        k4= np.array(k4)\n",
    "        t.append(t[step-1]+h)\n",
    "        temp = []\n",
    "        for i in range(len(FuncArr)):\n",
    "            temp.append(ValsArr[step-1][i]+(h/6.0)*(k1[i]+2.0*k2[i]+2.0*k3[i]+k4[i]))\n",
    "        ValsArr.append(temp)\n",
    "        \n",
    "    "
   ]
  },
  {
   "cell_type": "code",
   "execution_count": null,
   "metadata": {
    "collapsed": false
   },
   "outputs": [],
   "source": [
    "#corremos el algoritmo\n",
    "rungeKutta(funcArray,ValsArr,const,t)"
   ]
  },
  {
   "cell_type": "code",
   "execution_count": 9,
   "metadata": {
    "collapsed": false
   },
   "outputs": [],
   "source": [
    "#ploteamos los resultados\n",
    "ValsArr = np.array(ValsArr)\n",
    "for i in range(len(funcArray)):\n",
    "    \n",
    "    fig = plt.figure(figsize = (10,10))\n",
    "    \n",
    "    \n",
    "    \n",
    "    yString = revparams.get(\"xs[\"+str(i)+\"]\")\n",
    "    plt.plot(t,ValsArr[:,i],label =yString )\n",
    "    plt.xlabel(r\"Tiempo (s)\",fontsize= 20)\n",
    "    plt.ylabel(r\"\" + yString,fontsize= 20)\n",
    "    plt.title(yString+\" vs Tiempo\",fontsize = 30)\n",
    "    plt.legend()\n",
    "    plt.savefig(yString+\".png\")\n",
    "    plt.show()\n",
    "first = ValsArr[:,0]"
   ]
  },
  {
   "cell_type": "code",
   "execution_count": null,
   "metadata": {
    "collapsed": true
   },
   "outputs": [],
   "source": []
  }
 ],
 "metadata": {
  "anaconda-cloud": {},
  "kernelspec": {
   "display_name": "Python [Root]",
   "language": "python",
   "name": "Python [Root]"
  },
  "language_info": {
   "codemirror_mode": {
    "name": "ipython",
    "version": 3
   },
   "file_extension": ".py",
   "mimetype": "text/x-python",
   "name": "python",
   "nbconvert_exporter": "python",
   "pygments_lexer": "ipython3",
   "version": "3.5.2"
  }
 },
 "nbformat": 4,
 "nbformat_minor": 0
}
