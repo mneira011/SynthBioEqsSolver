{
 "cells": [
  {
   "cell_type": "code",
   "execution_count": 1,
   "metadata": {
    "collapsed": false
   },
   "outputs": [
    {
     "data": {
      "text/plain": [
       "array([   0.        ,   11.11111111,   22.22222222,   33.33333333,\n",
       "         44.44444444,   55.55555556,   66.66666667,   77.77777778,\n",
       "         88.88888889,  100.        ])"
      ]
     },
     "execution_count": 1,
     "metadata": {},
     "output_type": "execute_result"
    }
   ],
   "source": [
    "import numpy as np\n",
    "\n",
    "dic= {\"aL\":20.0,\"bL\":400.0,\"kL\":300.0,\"nL\":2.0, \"bPr\":580.0,\"kPr\" : 5800.0}\n",
    "\n",
    "x = np.linspace(0,100,10)\n",
    "y = x.copy()\n",
    "z = y.copy()\n",
    "def EMauro(x,y,z,t):\n",
    "    return x +y\n",
    "\n",
    "def MERpr(x,y,z,t):\n",
    "    return -x\n",
    "\n",
    "def HgMer(x,y,z,t):\n",
    "    return x/2.0\n",
    "    \n",
    "Arr = [EMauro,MERpr,HgMer]\n",
    "x"
   ]
  },
  {
   "cell_type": "code",
   "execution_count": 2,
   "metadata": {
    "collapsed": false
   },
   "outputs": [
    {
     "ename": "TypeError",
     "evalue": "EMauro() missing 1 required positional argument: 't'",
     "output_type": "error",
     "traceback": [
      "\u001b[0;31m---------------------------------------------------------------------------\u001b[0m",
      "\u001b[0;31mTypeError\u001b[0m                                 Traceback (most recent call last)",
      "\u001b[0;32m<ipython-input-2-4640aa70a59b>\u001b[0m in \u001b[0;36m<module>\u001b[0;34m()\u001b[0m\n\u001b[1;32m      1\u001b[0m \u001b[0;31m#Necesito que a todas las funciones les entre el mismo número de parámetros y en el mismo orden.\u001b[0m\u001b[0;34m\u001b[0m\u001b[0;34m\u001b[0m\u001b[0m\n\u001b[1;32m      2\u001b[0m \u001b[0;34m\u001b[0m\u001b[0m\n\u001b[0;32m----> 3\u001b[0;31m \u001b[0mArr\u001b[0m\u001b[0;34m[\u001b[0m\u001b[0;36m0\u001b[0m\u001b[0;34m]\u001b[0m\u001b[0;34m(\u001b[0m\u001b[0mx\u001b[0m\u001b[0;34m[\u001b[0m\u001b[0;36m1\u001b[0m\u001b[0;34m]\u001b[0m\u001b[0;34m,\u001b[0m\u001b[0my\u001b[0m\u001b[0;34m[\u001b[0m\u001b[0;36m1\u001b[0m\u001b[0;34m]\u001b[0m\u001b[0;34m,\u001b[0m\u001b[0mz\u001b[0m\u001b[0;34m[\u001b[0m\u001b[0;36m1\u001b[0m\u001b[0;34m]\u001b[0m\u001b[0;34m)\u001b[0m\u001b[0;34m\u001b[0m\u001b[0m\n\u001b[0m",
      "\u001b[0;31mTypeError\u001b[0m: EMauro() missing 1 required positional argument: 't'"
     ]
    }
   ],
   "source": [
    "#Necesito que a todas las funciones les entre el mismo número de parámetros y en el mismo orden.\n",
    "\n",
    "Arr[0](x[1],y[1],z[1])"
   ]
  },
  {
   "cell_type": "code",
   "execution_count": 3,
   "metadata": {
    "collapsed": false
   },
   "outputs": [],
   "source": [
    "def RunKutta(ConstDic,FuncArray,h=0.20):\n",
    "    \n",
    "    #js.barbosa10\n",
    "    \n",
    "    #Vainas generales\n",
    "    #step value\n",
    "    n_points = int((400.0+h)/h)\n",
    "    t = np.zeros(n_points,dtype=np.float64) #Rango de tiempo\n",
    "    \n",
    "    #Crea e inicializa arreglos\n",
    "    nameF =[]\n",
    "    nameFF = []\n",
    "    ArrDic = {}\n",
    "    for i in range(len(FuncArray)):\n",
    "        j  = str(FuncArray[i])\n",
    "        a = j[1:9]+\"_\"+j[10:15]\n",
    "        nameF.append(a)\n",
    "        nameFF.append(np.zeros(n_points,dtype=np.float64))\n",
    "    nameF.insert(0,'señal')\n",
    "    nameF.sort()\n",
    "    nameFF.append(np.zeros(n_points,dtype=np.float64))\n",
    "    for h in range(0,len(nameF)):\n",
    "        ArrDic[nameF[h]] = nameFF[h]\n",
    "        \n",
    "#     return ArrDic, nameF, nameFF\n",
    "\n",
    "    #Inicializa constantes\n",
    "    nameC =[]\n",
    "    val =[]\n",
    "    for i in dic:\n",
    "        nameC.append(i) \n",
    "    for j in nameC: \n",
    "        val.append(ConstDic[j])\n",
    "    for k in range(len(nameC)):\n",
    "        exec(\"%s = %s\" % (nameC[k],val[k]))\n",
    "    \n",
    "  \n",
    "        \n",
    "    #Soluciona\n",
    "    \n",
    "    #Preparación\n",
    "    \n",
    "    param = len(ArrDic)\n",
    "    ls = [\"\"]\n",
    "    for i in range(param):\n",
    "        ls[0] += \"ArrDic\"+\"[\"+\"'\"+nameF[i]+\"'\"+\"]\"+ \"[i\" + str(-1)+\"]\" + \",\"\n",
    "#     return ls, ArrDic\n",
    "    \n",
    "#   Soluciona\n",
    "    for i in range(1,n_points):\n",
    "        k1=[]\n",
    "        for j in range(0,len(FuncArray)):\n",
    "            k1.append(0)\n",
    "            exec(\"k1[j]=FuncArray[j](%s)\" % ls[0][:-1])\n",
    "    return k1\n",
    "\n",
    "#Esto ya funciona hermoso\n",
    "#         #Step 0\n",
    "#         for j in range(0,len(FuncArray)):\n",
    "#             k.append(\"k\"+str(j) + \"_\" + nameF[j])\n",
    "#             exec(\"%s = %s\" % (k[j],FuncArray[j](i-1)))\n",
    "#     return k\n",
    "        #Step 1\n",
    "        \n",
    "        \n",
    "#         k1_EA = func_EA_prime(t[i-1],EA[i-1],MER[i-1],HgMER[i-1],HgMERd[i-1],XI[i-1],LI[i-1],Hg[i-1])\n",
    "\n",
    "    \n",
    "    \n"
   ]
  },
  {
   "cell_type": "code",
   "execution_count": 4,
   "metadata": {
    "collapsed": false
   },
   "outputs": [
    {
     "data": {
      "text/plain": [
       "[0.0, -0.0, 0.0]"
      ]
     },
     "execution_count": 4,
     "metadata": {},
     "output_type": "execute_result"
    }
   ],
   "source": [
    "k= RunKutta(dic,Arr)\n",
    "# a[\"Señal\"][0]\n",
    "# ls = [\"\"]\n",
    "# for i in range(4):\n",
    "#     ls[0] += \"a\"+\"[\"+nameF[i]+\"]\"+ \"[i\" + str(-1)+\"]\" + \",\"\n",
    "k\n",
    "\n",
    "\n",
    "# \"k[j]=Arra[j](%s)\" % ls[0][:-1]"
   ]
  },
  {
   "cell_type": "code",
   "execution_count": 317,
   "metadata": {
    "collapsed": false
   },
   "outputs": [
    {
     "data": {
      "text/plain": [
       "[\"ArrDic['function_EMaur'][i-1],ArrDic['function_HgMer'][i-1],ArrDic['function_MERpr'][i-1],ArrDic['s'][i-1],\"]"
      ]
     },
     "execution_count": 317,
     "metadata": {},
     "output_type": "execute_result"
    }
   ],
   "source": [
    "ls\n"
   ]
  },
  {
   "cell_type": "code",
   "execution_count": 312,
   "metadata": {
    "collapsed": false
   },
   "outputs": [
    {
     "ename": "NameError",
     "evalue": "name 'function_EMaur' is not defined",
     "output_type": "error",
     "traceback": [
      "\u001b[0;31m---------------------------------------------------------------------------\u001b[0m",
      "\u001b[0;31mNameError\u001b[0m                                 Traceback (most recent call last)",
      "\u001b[0;32m<ipython-input-312-fbeeed011b16>\u001b[0m in \u001b[0;36m<module>\u001b[0;34m()\u001b[0m\n\u001b[1;32m      3\u001b[0m \u001b[0;31m# for j in range(0,len(Arr)):\u001b[0m\u001b[0;34m\u001b[0m\u001b[0;34m\u001b[0m\u001b[0m\n\u001b[1;32m      4\u001b[0m \u001b[0;31m#     k.append(0)\u001b[0m\u001b[0;34m\u001b[0m\u001b[0;34m\u001b[0m\u001b[0m\n\u001b[0;32m----> 5\u001b[0;31m \u001b[0mexec\u001b[0m\u001b[0;34m(\u001b[0m\u001b[0;34m\"k[j]=Arr[j](%s)\"\u001b[0m \u001b[0;34m%\u001b[0m \u001b[0mls\u001b[0m\u001b[0;34m[\u001b[0m\u001b[0;36m0\u001b[0m\u001b[0;34m]\u001b[0m\u001b[0;34m[\u001b[0m\u001b[0;34m:\u001b[0m\u001b[0;34m-\u001b[0m\u001b[0;36m1\u001b[0m\u001b[0;34m]\u001b[0m\u001b[0;34m)\u001b[0m\u001b[0;34m\u001b[0m\u001b[0m\n\u001b[0m",
      "\u001b[0;32m<string>\u001b[0m in \u001b[0;36m<module>\u001b[0;34m()\u001b[0m\n",
      "\u001b[0;31mNameError\u001b[0m: name 'function_EMaur' is not defined"
     ]
    }
   ],
   "source": [
    "# for i in range(1,100):\n",
    "k=[]\n",
    "# for j in range(0,len(Arr)):\n",
    "#     k.append(0)\n",
    "exec(\"k[j]=Arr[j](%s)\" % ls[0][:-1])"
   ]
  },
  {
   "cell_type": "code",
   "execution_count": 313,
   "metadata": {
    "collapsed": false
   },
   "outputs": [
    {
     "data": {
      "text/plain": [
       "'ArrDic[function_EMaur][i-1],ArrDic[function_HgMer][i-1],ArrDic[function_MERpr][i-1],ArrDic[s][i-1]'"
      ]
     },
     "execution_count": 313,
     "metadata": {},
     "output_type": "execute_result"
    }
   ],
   "source": [
    "ls[0][:-1]"
   ]
  },
  {
   "cell_type": "code",
   "execution_count": 155,
   "metadata": {
    "collapsed": false
   },
   "outputs": [
    {
     "data": {
      "text/plain": [
       "'hola(i-1,i-1,i-1,i-1)'"
      ]
     },
     "execution_count": 155,
     "metadata": {},
     "output_type": "execute_result"
    }
   ],
   "source": [
    "ls = [\"\"]\n",
    "for i in range(4):\n",
    "    ls[0] += \"i\" + str(-1) + \",\"\n",
    "    \n",
    "a = \"hola(%s)\" % ls[0][:-1]\n",
    "a"
   ]
  },
  {
   "cell_type": "code",
   "execution_count": 111,
   "metadata": {
    "collapsed": false
   },
   "outputs": [
    {
     "data": {
      "text/plain": [
       "'hola mundo(i-1)'"
      ]
     },
     "execution_count": 111,
     "metadata": {},
     "output_type": "execute_result"
    }
   ],
   "source": [
    "b = []\n",
    "for j in range(4):\n",
    "    a+\"(\"+\"i\"+str(-1)+\",\"\n",
    "if j == 4:\n",
    "    c = a+\")\"\n",
    "c"
   ]
  },
  {
   "cell_type": "code",
   "execution_count": 151,
   "metadata": {
    "collapsed": false
   },
   "outputs": [
    {
     "data": {
      "text/plain": [
       "'hola(papi)'"
      ]
     },
     "execution_count": 151,
     "metadata": {},
     "output_type": "execute_result"
    }
   ],
   "source": [
    "a = \"hola(%s)\" % \"papi\"\n",
    "a"
   ]
  },
  {
   "cell_type": "code",
   "execution_count": 207,
   "metadata": {
    "collapsed": false
   },
   "outputs": [],
   "source": [
    "Dic = {}\n",
    "lis = [\"a\",\"A\",\"aa\"]\n",
    "lis1 = [1,2,3]\n",
    "\n",
    "for i in range(len(lis1)):\n",
    "    Dic[lis[i]]= lis1[i]\n",
    "    "
   ]
  },
  {
   "cell_type": "code",
   "execution_count": 208,
   "metadata": {
    "collapsed": false
   },
   "outputs": [
    {
     "data": {
      "text/plain": [
       "{'A': 2, 'a': 1, 'aa': 3}"
      ]
     },
     "execution_count": 208,
     "metadata": {},
     "output_type": "execute_result"
    }
   ],
   "source": [
    "Dic"
   ]
  },
  {
   "cell_type": "code",
   "execution_count": 209,
   "metadata": {
    "collapsed": true
   },
   "outputs": [],
   "source": [
    "lis.sort()"
   ]
  },
  {
   "cell_type": "code",
   "execution_count": 210,
   "metadata": {
    "collapsed": false
   },
   "outputs": [
    {
     "data": {
      "text/plain": [
       "['A', 'a', 'aa']"
      ]
     },
     "execution_count": 210,
     "metadata": {},
     "output_type": "execute_result"
    }
   ],
   "source": [
    "lis"
   ]
  },
  {
   "cell_type": "code",
   "execution_count": null,
   "metadata": {
    "collapsed": true
   },
   "outputs": [],
   "source": []
  }
 ],
 "metadata": {
  "kernelspec": {
   "display_name": "Python [Root]",
   "language": "python",
   "name": "Python [Root]"
  },
  "language_info": {
   "codemirror_mode": {
    "name": "ipython",
    "version": 3
   },
   "file_extension": ".py",
   "mimetype": "text/x-python",
   "name": "python",
   "nbconvert_exporter": "python",
   "pygments_lexer": "ipython3",
   "version": "3.5.2"
  }
 },
 "nbformat": 4,
 "nbformat_minor": 2
}
